{
 "cells": [
  {
   "cell_type": "code",
   "execution_count": 9,
   "id": "21531e45-06e1-4aca-a641-cd3223fc8480",
   "metadata": {},
   "outputs": [
    {
     "name": "stdout",
     "output_type": "stream",
     "text": [
      "The autoreload extension is already loaded. To reload it, use:\n",
      "  %reload_ext autoreload\n"
     ]
    }
   ],
   "source": [
    "%load_ext autoreload\n",
    "%autoreload 2"
   ]
  },
  {
   "cell_type": "code",
   "execution_count": 10,
   "id": "2e0cd538-868e-4a0b-b3cd-5c4b4a41c21e",
   "metadata": {},
   "outputs": [],
   "source": [
    "from poliprompt import TextClassifier"
   ]
  },
  {
   "cell_type": "code",
   "execution_count": 11,
   "id": "7cba4347-7524-4fe1-a25b-e78e188dbbcf",
   "metadata": {},
   "outputs": [],
   "source": [
    "data_file = \"../examples/topic_data.csv\"\n",
    "work_station = \"../examples/TopicExperiment\"\n",
    "env_path = \"../.env\"\n",
    "options = [\"politics\", \"business\", \"sport\", \"technology\", \"entertainment\"]\n",
    "feature_col = \"text\"\n",
    "answer_col = \"label\"\n",
    "random_state = 42\n",
    "requests_per_period = 60\n",
    "seconds_per_period = 60"
   ]
  },
  {
   "cell_type": "code",
   "execution_count": 20,
   "id": "ce54c4b3-0f64-4e14-a7c5-d5aef69dbb0e",
   "metadata": {},
   "outputs": [],
   "source": [
    "topic_classifier = TextClassifier(data_file, work_station, env_path, options)"
   ]
  },
  {
   "cell_type": "code",
   "execution_count": 18,
   "id": "63cf9e9d-e155-4c7b-bd3b-4d01d2dec32e",
   "metadata": {},
   "outputs": [],
   "source": [
    "embedding_llm_name = \"openai\"\n",
    "reduce_method = \"umap\"\n",
    "select_method = \"kmeans\"\n",
    "testing = True\n",
    "testing_size = 500\n",
    "kshots = 5\n",
    "lambda_param = 1.0"
   ]
  },
  {
   "cell_type": "code",
   "execution_count": 14,
   "id": "85b69c83-1100-4df6-9527-1f23effdceac",
   "metadata": {},
   "outputs": [
    {
     "name": "stderr",
     "output_type": "stream",
     "text": [
      "2024-10-15 23:51:42,197 - poliprompt.text_classifier - WARNING - You are supposed to provide 'embedding_llm_configs.json', 'reduce_configs.json', and 'select_configs.json' in the path ../examples/TopicExperiment/infiles/configs\n",
      "2024-10-15 23:53:26,222 - poliprompt.text_classifier - INFO - NumPy array saved to ../examples/TopicExperiment/outfiles/embeddings.npy\n",
      "2024-10-15 23:53:26,241 - poliprompt.text_classifier - INFO - List of integer indices saved to ../examples/TopicExperiment/outfiles/exemplar_indices.json\n",
      "2024-10-15 23:53:26,242 - poliprompt.text_classifier - INFO - Computation time: 00:01:44\n",
      "2024-10-15 23:53:26,243 - poliprompt.text_classifier - INFO - You are supposed to provid label in ../examples/topic_data.csv for the next steps.\n"
     ]
    }
   ],
   "source": [
    "topic_classifier.create_few_shot_pool(embedding_llm_name, reduce_method, select_method, testing, testing_size)"
   ]
  },
  {
   "cell_type": "code",
   "execution_count": 15,
   "id": "4907c19e-3ad9-4191-9427-9aa7fa64ac42",
   "metadata": {},
   "outputs": [],
   "source": [
    "llm_name = \"gpt-4-turbo\"\n",
    "prompt_file_name = \"prompt.txt\""
   ]
  },
  {
   "cell_type": "code",
   "execution_count": 21,
   "id": "d76e7c02-6238-4e97-b383-3ea2c2851379",
   "metadata": {},
   "outputs": [
    {
     "name": "stderr",
     "output_type": "stream",
     "text": [
      "120it [00:00, 87716.36it/s]\n",
      "/Users/jokersmith/Documents/Papers/PA24/dev/PoliPrompt/src/poliprompt/text_classifier.py:223: LangChainDeprecationWarning: The class `LLMChain` was deprecated in LangChain 0.1.17 and will be removed in 1.0. Use RunnableSequence, e.g., `prompt | llm` instead.\n",
      "  map_chain = LLMChain(llm=model, prompt=map_prompt)\n",
      "/Users/jokersmith/.myenv/lib/python3.10/site-packages/langchain_openai/chat_models/base.py:360: UserWarning: Unexpected type for token usage: <class 'NoneType'>\n",
      "  warnings.warn(f\"Unexpected type for token usage: {type(new_usage)}\")\n",
      "2024-10-16 00:03:11,765 - poliprompt.text_classifier - WARNING - **Concise Summary Rules for Choosing the Correct News Report Topic:**\n",
      "\n",
      "1. **Politics:** Choose if the text primarily discusses government actions, political figures, elections, or legislative issues.\n",
      "2. **Business:** Select if the focus is on financial markets, corporate affairs, or economic policies.\n",
      "3. **Sport:** Opt for this category if the text centers on sports events, athletes, or sports teams.\n",
      "4. **Technology:** Choose if the discussion is about technological advancements, digital trends, or tech companies.\n",
      "5. **Entertainment:** Select if the text revolves around movies, music, television, celebrities, or cultural events.\n",
      "\n",
      "**General Rule:** Always choose the category that best aligns with the central theme or primary subject matter of the text. Avoid options that do not prominently represent the content of the text.\n"
     ]
    }
   ],
   "source": [
    "enhanced_description = topic_classifier.optimize_task_description(llm_name, prompt_file_name)"
   ]
  },
  {
   "cell_type": "code",
   "execution_count": 22,
   "id": "0d644eda-909e-4210-90c1-41bd32f39081",
   "metadata": {},
   "outputs": [
    {
     "data": {
      "text/plain": [
       "'**Concise Summary Rules for Choosing the Correct News Report Topic:**\\n\\n1. **Politics:** Choose if the text primarily discusses government actions, political figures, elections, or legislative issues.\\n2. **Business:** Select if the focus is on financial markets, corporate affairs, or economic policies.\\n3. **Sport:** Opt for this category if the text centers on sports events, athletes, or sports teams.\\n4. **Technology:** Choose if the discussion is about technological advancements, digital trends, or tech companies.\\n5. **Entertainment:** Select if the text revolves around movies, music, television, celebrities, or cultural events.\\n\\n**General Rule:** Always choose the category that best aligns with the central theme or primary subject matter of the text. Avoid options that do not prominently represent the content of the text.'"
      ]
     },
     "execution_count": 22,
     "metadata": {},
     "output_type": "execute_result"
    }
   ],
   "source": [
    "enhanced_description"
   ]
  },
  {
   "cell_type": "code",
   "execution_count": 23,
   "id": "17b5f2b1-dd3f-4ef0-8bc8-d71f28f86750",
   "metadata": {},
   "outputs": [],
   "source": [
    "llm1_name = \"gpt-3.5-turbo\"\n",
    "enhanced_prompt_file_name = \"enhanced_prompt.txt\""
   ]
  },
  {
   "cell_type": "code",
   "execution_count": 24,
   "id": "f8baded1-896b-4892-9d01-959d83e468fd",
   "metadata": {},
   "outputs": [
    {
     "name": "stderr",
     "output_type": "stream",
     "text": [
      "2024-10-16 00:04:59,343 - poliprompt.text_classifier - INFO - Saving output to an existing file \n",
      "../examples/TopicExperiment/outfiles/topic_data_gpt-3.5-turbo_enhanced_prompt_5shots_test.csv\n"
     ]
    },
    {
     "name": "stdout",
     "output_type": "stream",
     "text": [
      "Examples of data\n",
      "                                                 text     label\n",
      "0  Budget to set scene for election\\n \\n Gordon B...  politics\n",
      "1  Army chiefs in regiments decision\\n \\n Militar...  politics\n",
      "2  Howard denies split over ID cards\\n \\n Michael...  politics\n",
      "3  Observers to monitor UK election\\n \\n Minister...  politics\n",
      "4  Kilroy names election seat target\\n \\n Ex-chat...  politics\n"
     ]
    },
    {
     "name": "stderr",
     "output_type": "stream",
     "text": [
      "2024-10-16 00:12:16,238 - poliprompt.text_classifier - INFO - Computation time: 00:07:16\n",
      "2024-10-16 00:12:16,265 - poliprompt.text_classifier - INFO - Results saved to ../examples/TopicExperiment/outfiles/topic_data_gpt-3.5-turbo_enhanced_prompt_5shots_test.csv\n"
     ]
    }
   ],
   "source": [
    "topic_classifier.annotate(llm1_name, enhanced_prompt_file_name, kshots, lambda_param, False, testing, testing_size)"
   ]
  },
  {
   "cell_type": "code",
   "execution_count": 25,
   "id": "0004e9f2-5f6c-4ac6-ac9c-c5fec07652c7",
   "metadata": {},
   "outputs": [],
   "source": [
    "cot_llm_name = \"gpt-4-turbo\"\n",
    "mismatch_file_name = \"mismatch.json\"\n",
    "cot_prompt_file_name = \"cot_prompt.txt\""
   ]
  },
  {
   "cell_type": "code",
   "execution_count": 26,
   "id": "3f71505b-6517-480b-a89e-156a9ff038ee",
   "metadata": {},
   "outputs": [
    {
     "name": "stderr",
     "output_type": "stream",
     "text": [
      "2024-10-16 00:13:18,944 - poliprompt.text_classifier - INFO - Computation time: 00:00:41\n",
      "2024-10-16 00:13:18,956 - poliprompt.text_classifier - INFO - Results saved to ../examples/TopicExperiment/outfiles/cot_mismatch_topic_data_gpt-4-turbo_cot_prompt_5shots_test.csv\n"
     ]
    }
   ],
   "source": [
    "topic_classifier.cot_mismatch_solver(cot_llm_name, mismatch_file_name, cot_prompt_file_name, kshots, lambda_param, False, testing, testing_size)"
   ]
  },
  {
   "cell_type": "code",
   "execution_count": 27,
   "id": "9b7a3c15-3c1c-40e9-b554-efb525dd76da",
   "metadata": {},
   "outputs": [],
   "source": [
    "judge_llm_name = \"gpt-4-turbo\"\n",
    "llm2_name = \"claude-3-haiku-20240307\"\n",
    "cot_prompt_file_name = \"cot_prompt.txt\"\n",
    "judge_prompt_file_name = \"judge_prompt.txt\""
   ]
  },
  {
   "cell_type": "code",
   "execution_count": 28,
   "id": "e4b1774f-9d39-47fa-bb60-9e890e971381",
   "metadata": {},
   "outputs": [
    {
     "name": "stderr",
     "output_type": "stream",
     "text": [
      "2024-10-16 00:16:20,683 - poliprompt.text_classifier - INFO - Computation time: 00:00:54\n",
      "2024-10-16 00:16:20,696 - poliprompt.text_classifier - INFO - Results saved to ../examples/TopicExperiment/outfiles/judge_mismatch_topic_data_gpt-4-turbo_judge_prompt_5shots_test.csv\n"
     ]
    }
   ],
   "source": [
    "topic_classifier.judge_mismatch_solver(judge_llm_name, llm1_name, llm2_name, mismatch_file_name, cot_prompt_file_name, judge_prompt_file_name, kshots, lambda_param, False, testing, testing_size)"
   ]
  },
  {
   "cell_type": "code",
   "execution_count": null,
   "id": "8267d763-d968-461a-a6d9-3eb5c0cc9e12",
   "metadata": {},
   "outputs": [],
   "source": []
  }
 ],
 "metadata": {
  "kernelspec": {
   "display_name": "Python (poliprompt_env)",
   "language": "python",
   "name": ".myenv"
  },
  "language_info": {
   "codemirror_mode": {
    "name": "ipython",
    "version": 3
   },
   "file_extension": ".py",
   "mimetype": "text/x-python",
   "name": "python",
   "nbconvert_exporter": "python",
   "pygments_lexer": "ipython3",
   "version": "3.10.14"
  }
 },
 "nbformat": 4,
 "nbformat_minor": 5
}
